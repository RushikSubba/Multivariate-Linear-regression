{
 "cells": [
  {
   "cell_type": "code",
   "execution_count": 3,
   "metadata": {
    "scrolled": false
   },
   "outputs": [
    {
     "name": "stdout",
     "output_type": "stream",
     "text": [
      "Cost :  0.0033736656099699015\n"
     ]
    }
   ],
   "source": [
    "import matplotlib.pyplot as plt\n",
    "import numpy as np\n",
    "import math\n",
    "\n",
    "def cost(x, y, th):\n",
    "    t3 = x @ th - y\n",
    "    t4 = t3.transpose() @ t3\n",
    "    t2 = 2 * x.shape[0]\n",
    "    t1 = (1 / t2) * t4\n",
    "    ans = np.squeeze(t1)\n",
    "    return ans\n",
    "\n",
    "def plotter(x, y, th):\n",
    "    ti = np.linspace(-10, 10, num=1000)\n",
    "    for i in range(th.shape[0]):\n",
    "        th1 = np.copy(th)\n",
    "        jv = []\n",
    "        for j in ti:\n",
    "            th1[i][0] = j\n",
    "            jv.append(cost(x, y, th1))\n",
    "        print(min(jv))\n",
    "        plt.plot(ti, jv)\n",
    "        plt.show()\n",
    "\n",
    "def gr_dsc(x, y, th):\n",
    "    iters = 10000\n",
    "    alpha = 0.001\n",
    "    while(iters != 0) :\n",
    "        th = th - alpha*(x.transpose() @ (x @ th - y))\n",
    "        iters -= 1\n",
    "    print(\"Cost : \", cost(x,y,th))\n",
    "\n",
    "f_name = \"real_estate.csv\"\n",
    "\n",
    "data = np.genfromtxt(f_name, delimiter=\",\", skip_header=1)\n",
    "rows = data.shape[0]\n",
    "columns = data.shape[1]\n",
    "\n",
    "th = np.ones((columns, 1))\n",
    "x = np.ones((rows, columns))\n",
    "y = np.zeros((rows, 1))\n",
    "\n",
    "mins = data.min(axis=0)\n",
    "maxs = data.max(axis=0)\n",
    "\n",
    "\n",
    "for i in range(columns):\n",
    "    if i == columns - 1:\n",
    "        for j in range(rows):\n",
    "            y[j][0] = (data[j][i] - mins[i])/(maxs[i] - mins[i])\n",
    "    else :\n",
    "        for j in range(rows):\n",
    "            x[j][i + 1] = (data[j][i] - mins[i])/(maxs[i] - mins[i])\n",
    "\n",
    "\"\"\"x_learing = np.zeros((int(0.8*rows), columns))\n",
    "x_testing = np.zeros((rows - int(0.8*rows), columns))\n",
    "y_learning = np.zeroes((int(0.8*rows), 1))\n",
    "y_testing = np.zeros((rows - int(0.8*rows), 1))\"\"\"\n",
    "\n",
    "x_learning = x[:int(0.8*rows) + 1,:]\n",
    "x_testing = x[int(0.8*rows) + 1:,:]\n",
    "y_learning = y[:int(0.8*rows) + 1,:]\n",
    "y_testing = y[int(0.8*rows) + 1:,:]\n",
    "th_copy = th.copy()\n",
    "\n",
    "gr_dsc(x_learning, y_learning, th_copy)"
   ]
  },
  {
   "cell_type": "code",
   "execution_count": null,
   "metadata": {},
   "outputs": [],
   "source": []
  }
 ],
 "metadata": {
  "kernelspec": {
   "display_name": "Python 3",
   "language": "python",
   "name": "python3"
  },
  "language_info": {
   "codemirror_mode": {
    "name": "ipython",
    "version": 3
   },
   "file_extension": ".py",
   "mimetype": "text/x-python",
   "name": "python",
   "nbconvert_exporter": "python",
   "pygments_lexer": "ipython3",
   "version": "3.7.1"
  }
 },
 "nbformat": 4,
 "nbformat_minor": 4
}
